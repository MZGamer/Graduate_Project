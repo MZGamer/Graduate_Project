{
 "cells": [
  {
   "cell_type": "code",
   "execution_count": 7,
   "metadata": {},
   "outputs": [
    {
     "name": "stdout",
     "output_type": "stream",
     "text": [
      "dataSize: 0\n",
      "-1    35072\n",
      "Name: count, dtype: int64\n",
      "-1    35072\n",
      "Name: count, dtype: int64\n"
     ]
    },
    {
     "data": {
      "text/plain": [
       "<Axes: >"
      ]
     },
     "execution_count": 7,
     "metadata": {},
     "output_type": "execute_result"
    },
    {
     "data": {
      "image/png": "[encoded data removed]",
      "text/plain": [
       "<Figure size 640x480 with 2 Axes>"
      ]
     },
     "metadata": {},
     "output_type": "display_data"
    }
   ],
   "source": [
    "import numpy as np\n",
    "import pandas as pd\n",
    "import tensorflow as tf\n",
    "from sklearn.model_selection import train_test_split\n",
    "import matplotlib.pyplot as plt\n",
    "from pylab import mpl\n",
    "\n",
    "TARGET = 'service'\n",
    "\n",
    "# 讀取CSV文件並轉換為DataFrame\n",
    "df = pd.read_csv('reviewType_Empty2wTo4wV3.csv')\n",
    "df.dropna(inplace=True)\n",
    "texts = df['Comment'].tolist()\n",
    "\n",
    "count = 0\n",
    "\n",
    "full_labels = []\n",
    "\n",
    "\n",
    "simple_labels = []\n",
    "\n",
    "deafult = np.zeros((1,len(df.iloc[0][3:].values)), dtype='O')[0]\n",
    "\n",
    "\n",
    "for t in range(len(texts)):\n",
    "    flag = False\n",
    "    if(df.iloc[t][TARGET] == 1 or df.iloc[t][TARGET] == 2):\n",
    "      simple_labels.append(1)\n",
    "    elif(df.iloc[t][TARGET] == 4 or df.iloc[t][TARGET] == 5):\n",
    "      simple_labels.append(3)\n",
    "    elif(df.iloc[t][TARGET] == 3):\n",
    "      simple_labels.append(2)\n",
    "    else:\n",
    "      if np.array_equal(df.iloc[t][3:].values, deafult) == False:\n",
    "          simple_labels.append(0)\n",
    "      else:\n",
    "          simple_labels.append(-1)\n",
    "          flag = True\n",
    "    if flag:\n",
    "       full_labels.append(-1)\n",
    "    else:\n",
    "      full_labels.append(df.iloc[t][TARGET])\n",
    "      count += 1\n",
    "\n",
    "\n",
    "fig, axes = plt.subplots(nrows=2, ncols=1)\n",
    "print(f\"dataSize: {count}\")\n",
    "\n",
    "print(pd.Series(simple_labels).value_counts())\n",
    "pd.Series(simple_labels).value_counts().plot(kind='bar', ax=axes[0])\n",
    "\n",
    "print(pd.Series(full_labels).value_counts())\n",
    "\n",
    "pd.Series(full_labels).value_counts().plot(kind='bar', ax=axes[1])\n"
   ]
  }
 ],
 "metadata": {
  "kernelspec": {
   "display_name": ".venv",
   "language": "python",
   "name": "python3"
  },
  "language_info": {
   "codemirror_mode": {
    "name": "ipython",
    "version": 3
   },
   "file_extension": ".py",
   "mimetype": "text/x-python",
   "name": "python",
   "nbconvert_exporter": "python",
   "pygments_lexer": "ipython3",
   "version": "3.9.0"
  },
  "orig_nbformat": 4
 },
 "nbformat": 4,
 "nbformat_minor": 2
}
