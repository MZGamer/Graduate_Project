{
 "cells": [
  {
   "cell_type": "code",
   "execution_count": 2,
   "metadata": {},
   "outputs": [
    {
     "name": "stdout",
     "output_type": "stream",
     "text": [
      "Requirement already satisfied: tensorflow in d:\\work\\project\\school_homework\\graduate_project\\.venv\\lib\\site-packages (2.13.0)\n",
      "Requirement already satisfied: tensorflow-intel==2.13.0 in d:\\work\\project\\school_homework\\graduate_project\\.venv\\lib\\site-packages (from tensorflow) (2.13.0)\n",
      "Requirement already satisfied: grpcio<2.0,>=1.24.3 in d:\\work\\project\\school_homework\\graduate_project\\.venv\\lib\\site-packages (from tensorflow-intel==2.13.0->tensorflow) (1.54.0)\n",
      "Requirement already satisfied: libclang>=13.0.0 in d:\\work\\project\\school_homework\\graduate_project\\.venv\\lib\\site-packages (from tensorflow-intel==2.13.0->tensorflow) (16.0.0)\n",
      "Requirement already satisfied: astunparse>=1.6.0 in d:\\work\\project\\school_homework\\graduate_project\\.venv\\lib\\site-packages (from tensorflow-intel==2.13.0->tensorflow) (1.6.3)\n",
      "Requirement already satisfied: tensorboard<2.14,>=2.13 in d:\\work\\project\\school_homework\\graduate_project\\.venv\\lib\\site-packages (from tensorflow-intel==2.13.0->tensorflow) (2.13.0)\n",
      "Requirement already satisfied: absl-py>=1.0.0 in d:\\work\\project\\school_homework\\graduate_project\\.venv\\lib\\site-packages (from tensorflow-intel==2.13.0->tensorflow) (1.4.0)\n",
      "Requirement already satisfied: h5py>=2.9.0 in d:\\work\\project\\school_homework\\graduate_project\\.venv\\lib\\site-packages (from tensorflow-intel==2.13.0->tensorflow) (3.8.0)\n",
      "Requirement already satisfied: tensorflow-io-gcs-filesystem>=0.23.1 in d:\\work\\project\\school_homework\\graduate_project\\.venv\\lib\\site-packages (from tensorflow-intel==2.13.0->tensorflow) (0.31.0)\n",
      "Requirement already satisfied: termcolor>=1.1.0 in d:\\work\\project\\school_homework\\graduate_project\\.venv\\lib\\site-packages (from tensorflow-intel==2.13.0->tensorflow) (2.3.0)\n",
      "Requirement already satisfied: wrapt>=1.11.0 in d:\\work\\project\\school_homework\\graduate_project\\.venv\\lib\\site-packages (from tensorflow-intel==2.13.0->tensorflow) (1.14.1)\n",
      "Requirement already satisfied: flatbuffers>=23.1.21 in d:\\work\\project\\school_homework\\graduate_project\\.venv\\lib\\site-packages (from tensorflow-intel==2.13.0->tensorflow) (23.3.3)\n",
      "Requirement already satisfied: packaging in d:\\work\\project\\school_homework\\graduate_project\\.venv\\lib\\site-packages (from tensorflow-intel==2.13.0->tensorflow) (23.1)\n",
      "Requirement already satisfied: keras<2.14,>=2.13.1 in d:\\work\\project\\school_homework\\graduate_project\\.venv\\lib\\site-packages (from tensorflow-intel==2.13.0->tensorflow) (2.13.1)\n",
      "Requirement already satisfied: google-pasta>=0.1.1 in d:\\work\\project\\school_homework\\graduate_project\\.venv\\lib\\site-packages (from tensorflow-intel==2.13.0->tensorflow) (0.2.0)\n",
      "Requirement already satisfied: tensorflow-estimator<2.14,>=2.13.0 in d:\\work\\project\\school_homework\\graduate_project\\.venv\\lib\\site-packages (from tensorflow-intel==2.13.0->tensorflow) (2.13.0)\n",
      "Requirement already satisfied: six>=1.12.0 in d:\\work\\project\\school_homework\\graduate_project\\.venv\\lib\\site-packages (from tensorflow-intel==2.13.0->tensorflow) (1.16.0)\n",
      "Requirement already satisfied: typing-extensions<4.6.0,>=3.6.6 in d:\\work\\project\\school_homework\\graduate_project\\.venv\\lib\\site-packages (from tensorflow-intel==2.13.0->tensorflow) (4.5.0)\n",
      "Requirement already satisfied: setuptools in d:\\work\\project\\school_homework\\graduate_project\\.venv\\lib\\site-packages (from tensorflow-intel==2.13.0->tensorflow) (65.5.1)\n",
      "Requirement already satisfied: protobuf!=4.21.0,!=4.21.1,!=4.21.2,!=4.21.3,!=4.21.4,!=4.21.5,<5.0.0dev,>=3.20.3 in d:\\work\\project\\school_homework\\graduate_project\\.venv\\lib\\site-packages (from tensorflow-intel==2.13.0->tensorflow) (4.22.3)\n",
      "Requirement already satisfied: gast<=0.4.0,>=0.2.1 in d:\\work\\project\\school_homework\\graduate_project\\.venv\\lib\\site-packages (from tensorflow-intel==2.13.0->tensorflow) (0.4.0)\n",
      "Requirement already satisfied: numpy<=1.24.3,>=1.22 in d:\\work\\project\\school_homework\\graduate_project\\.venv\\lib\\site-packages (from tensorflow-intel==2.13.0->tensorflow) (1.23.5)\n",
      "Requirement already satisfied: opt-einsum>=2.3.2 in d:\\work\\project\\school_homework\\graduate_project\\.venv\\lib\\site-packages (from tensorflow-intel==2.13.0->tensorflow) (3.3.0)\n",
      "Requirement already satisfied: wheel<1.0,>=0.23.0 in d:\\work\\project\\school_homework\\graduate_project\\.venv\\lib\\site-packages (from astunparse>=1.6.0->tensorflow-intel==2.13.0->tensorflow) (0.38.4)\n",
      "Requirement already satisfied: requests<3,>=2.21.0 in d:\\work\\project\\school_homework\\graduate_project\\.venv\\lib\\site-packages (from tensorboard<2.14,>=2.13->tensorflow-intel==2.13.0->tensorflow) (2.28.2)\n",
      "Requirement already satisfied: werkzeug>=1.0.1 in d:\\work\\project\\school_homework\\graduate_project\\.venv\\lib\\site-packages (from tensorboard<2.14,>=2.13->tensorflow-intel==2.13.0->tensorflow) (2.3.4)\n",
      "Requirement already satisfied: tensorboard-data-server<0.8.0,>=0.7.0 in d:\\work\\project\\school_homework\\graduate_project\\.venv\\lib\\site-packages (from tensorboard<2.14,>=2.13->tensorflow-intel==2.13.0->tensorflow) (0.7.0)\n",
      "Requirement already satisfied: markdown>=2.6.8 in d:\\work\\project\\school_homework\\graduate_project\\.venv\\lib\\site-packages (from tensorboard<2.14,>=2.13->tensorflow-intel==2.13.0->tensorflow) (3.4.3)\n",
      "Requirement already satisfied: google-auth-oauthlib<1.1,>=0.5 in d:\\work\\project\\school_homework\\graduate_project\\.venv\\lib\\site-packages (from tensorboard<2.14,>=2.13->tensorflow-intel==2.13.0->tensorflow) (1.0.0)\n",
      "Requirement already satisfied: google-auth<3,>=1.6.3 in d:\\work\\project\\school_homework\\graduate_project\\.venv\\lib\\site-packages (from tensorboard<2.14,>=2.13->tensorflow-intel==2.13.0->tensorflow) (2.17.3)\n",
      "Requirement already satisfied: cachetools<6.0,>=2.0.0 in d:\\work\\project\\school_homework\\graduate_project\\.venv\\lib\\site-packages (from google-auth<3,>=1.6.3->tensorboard<2.14,>=2.13->tensorflow-intel==2.13.0->tensorflow) (5.3.0)\n",
      "Requirement already satisfied: rsa<5,>=3.1.4 in d:\\work\\project\\school_homework\\graduate_project\\.venv\\lib\\site-packages (from google-auth<3,>=1.6.3->tensorboard<2.14,>=2.13->tensorflow-intel==2.13.0->tensorflow) (4.9)\n",
      "Requirement already satisfied: pyasn1-modules>=0.2.1 in d:\\work\\project\\school_homework\\graduate_project\\.venv\\lib\\site-packages (from google-auth<3,>=1.6.3->tensorboard<2.14,>=2.13->tensorflow-intel==2.13.0->tensorflow) (0.2.8)\n",
      "Requirement already satisfied: requests-oauthlib>=0.7.0 in d:\\work\\project\\school_homework\\graduate_project\\.venv\\lib\\site-packages (from google-auth-oauthlib<1.1,>=0.5->tensorboard<2.14,>=2.13->tensorflow-intel==2.13.0->tensorflow) (1.3.1)\n",
      "Requirement already satisfied: importlib-metadata>=4.4 in d:\\work\\project\\school_homework\\graduate_project\\.venv\\lib\\site-packages (from markdown>=2.6.8->tensorboard<2.14,>=2.13->tensorflow-intel==2.13.0->tensorflow) (6.6.0)\n",
      "Requirement already satisfied: urllib3<1.27,>=1.21.1 in d:\\work\\project\\school_homework\\graduate_project\\.venv\\lib\\site-packages (from requests<3,>=2.21.0->tensorboard<2.14,>=2.13->tensorflow-intel==2.13.0->tensorflow) (1.26.18)\n",
      "Requirement already satisfied: idna<4,>=2.5 in d:\\work\\project\\school_homework\\graduate_project\\.venv\\lib\\site-packages (from requests<3,>=2.21.0->tensorboard<2.14,>=2.13->tensorflow-intel==2.13.0->tensorflow) (2.5)\n",
      "Requirement already satisfied: charset-normalizer<4,>=2 in d:\\work\\project\\school_homework\\graduate_project\\.venv\\lib\\site-packages (from requests<3,>=2.21.0->tensorboard<2.14,>=2.13->tensorflow-intel==2.13.0->tensorflow) (3.1.0)\n",
      "Requirement already satisfied: certifi>=2017.4.17 in d:\\work\\project\\school_homework\\graduate_project\\.venv\\lib\\site-packages (from requests<3,>=2.21.0->tensorboard<2.14,>=2.13->tensorflow-intel==2.13.0->tensorflow) (2022.12.7)\n",
      "Requirement already satisfied: MarkupSafe>=2.1.1 in d:\\work\\project\\school_homework\\graduate_project\\.venv\\lib\\site-packages (from werkzeug>=1.0.1->tensorboard<2.14,>=2.13->tensorflow-intel==2.13.0->tensorflow) (2.1.2)\n",
      "Requirement already satisfied: zipp>=0.5 in d:\\work\\project\\school_homework\\graduate_project\\.venv\\lib\\site-packages (from importlib-metadata>=4.4->markdown>=2.6.8->tensorboard<2.14,>=2.13->tensorflow-intel==2.13.0->tensorflow) (3.15.0)\n",
      "Requirement already satisfied: pyasn1<0.5.0,>=0.4.6 in d:\\work\\project\\school_homework\\graduate_project\\.venv\\lib\\site-packages (from pyasn1-modules>=0.2.1->google-auth<3,>=1.6.3->tensorboard<2.14,>=2.13->tensorflow-intel==2.13.0->tensorflow) (0.4.8)\n",
      "Requirement already satisfied: oauthlib>=3.0.0 in d:\\work\\project\\school_homework\\graduate_project\\.venv\\lib\\site-packages (from requests-oauthlib>=0.7.0->google-auth-oauthlib<1.1,>=0.5->tensorboard<2.14,>=2.13->tensorflow-intel==2.13.0->tensorflow) (3.2.2)\n"
     ]
    },
    {
     "name": "stderr",
     "output_type": "stream",
     "text": [
      "WARNING: Ignoring invalid distribution -ensorflow-intel (d:\\work\\project\\school_homework\\graduate_project\\.venv\\lib\\site-packages)\n",
      "WARNING: Ignoring invalid distribution -ensorflow-intel (d:\\work\\project\\school_homework\\graduate_project\\.venv\\lib\\site-packages)\n",
      "WARNING: Ignoring invalid distribution -ensorflow-intel (d:\\work\\project\\school_homework\\graduate_project\\.venv\\lib\\site-packages)\n",
      "WARNING: Ignoring invalid distribution -ensorflow-intel (d:\\work\\project\\school_homework\\graduate_project\\.venv\\lib\\site-packages)\n",
      "WARNING: Ignoring invalid distribution -ensorflow-intel (d:\\work\\project\\school_homework\\graduate_project\\.venv\\lib\\site-packages)\n",
      "WARNING: Ignoring invalid distribution -ensorflow-intel (d:\\work\\project\\school_homework\\graduate_project\\.venv\\lib\\site-packages)\n",
      "\n",
      "[notice] A new release of pip is available: 23.0.1 -> 23.3.1\n",
      "[notice] To update, run: python.exe -m pip install --upgrade pip\n"
     ]
    }
   ],
   "source": [
    "!pip install tensorflow"
   ]
  },
  {
   "cell_type": "code",
   "execution_count": 2,
   "metadata": {},
   "outputs": [
    {
     "name": "stdout",
     "output_type": "stream",
     "text": [
      "dataSize: 0\n",
      "-1    2336\n",
      "Name: count, dtype: int64\n",
      "-1    2336\n",
      "Name: count, dtype: int64\n"
     ]
    },
    {
     "data": {
      "text/plain": [
       "<Axes: >"
      ]
     },
     "execution_count": 2,
     "metadata": {},
     "output_type": "execute_result"
    },
    {
     "data": {
      "image/png": "[encoded data removed]",
      "text/plain": [
       "<Figure size 640x480 with 2 Axes>"
      ]
     },
     "metadata": {},
     "output_type": "display_data"
    }
   ],
   "source": [
    "import numpy as np\n",
    "import pandas as pd\n",
    "from sklearn.model_selection import train_test_split\n",
    "import matplotlib.pyplot as plt\n",
    "from pylab import mpl\n",
    "\n",
    "TARGET = 'portion'\n",
    "\n",
    "# 讀取CSV文件並轉換為DataFrame\n",
    "df = pd.read_csv('maybePortion.csv')\n",
    "df.dropna(inplace=True)\n",
    "texts = df['Comment'].tolist()\n",
    "\n",
    "count = 0\n",
    "\n",
    "full_labels = []\n",
    "\n",
    "\n",
    "simple_labels = []\n",
    "\n",
    "deafult = np.zeros((1,len(df.iloc[0][3:].values)), dtype='O')[0]\n",
    "\n",
    "\n",
    "for t in range(len(texts)):\n",
    "    flag = False\n",
    "    if(df.iloc[t][TARGET] == 1 or df.iloc[t][TARGET] == 2):\n",
    "      simple_labels.append(1)\n",
    "    elif(df.iloc[t][TARGET] == 4 or df.iloc[t][TARGET] == 5):\n",
    "      simple_labels.append(3)\n",
    "    elif(df.iloc[t][TARGET] == 3):\n",
    "      simple_labels.append(2)\n",
    "    else:\n",
    "      if np.array_equal(df.iloc[t][3:].values, deafult) == False:\n",
    "          simple_labels.append(0)\n",
    "      else:\n",
    "          simple_labels.append(-1)\n",
    "          flag = True\n",
    "    if flag:\n",
    "       full_labels.append(-1)\n",
    "    else:\n",
    "      full_labels.append(df.iloc[t][TARGET])\n",
    "      count += 1\n",
    "\n",
    "\n",
    "fig, axes = plt.subplots(nrows=2, ncols=1)\n",
    "print(f\"dataSize: {count}\")\n",
    "\n",
    "print(pd.Series(simple_labels).value_counts())\n",
    "pd.Series(simple_labels).value_counts().plot(kind='bar', ax=axes[0])\n",
    "\n",
    "print(pd.Series(full_labels).value_counts())\n",
    "\n",
    "pd.Series(full_labels).value_counts().plot(kind='bar', ax=axes[1])\n"
   ]
  }
 ],
 "metadata": {
  "kernelspec": {
   "display_name": ".venv",
   "language": "python",
   "name": "python3"
  },
  "language_info": {
   "codemirror_mode": {
    "name": "ipython",
    "version": 3
   },
   "file_extension": ".py",
   "mimetype": "text/x-python",
   "name": "python",
   "nbconvert_exporter": "python",
   "pygments_lexer": "ipython3",
   "version": "3.9.0"
  },
  "orig_nbformat": 4
 },
 "nbformat": 4,
 "nbformat_minor": 2
}
