{
 "cells": [
  {
   "cell_type": "code",
   "execution_count": null,
   "metadata": {},
   "outputs": [],
   "source": [
    "import pandas as pd\n",
    "import tensorflow as tf\n",
    "from sklearn.model_selection import train_test_split\n",
    "import emoji\n",
    "import re\n",
    "import math\n",
    "from pylab import mpl\n",
    "\n",
    "TARGET = 'food_quality'\n",
    "\n",
    "maxlen = 1000\n",
    "vocab_size = len(dic)\n",
    "# 讀取CSV文件並轉換為DataFrame\n",
    "df = pd.read_csv('maybeNegativeOrNature_foodQuality.csv')\n",
    "df.dropna(inplace=True)\n",
    "texts = df['Comment'].tolist()\n",
    "\n",
    "full_labels = []\n",
    "\n",
    "\n",
    "simple_labels = []\n",
    "\n",
    "\n",
    "for t in range(len(texts)):\n",
    "\n",
    "    if(df.iloc[t][TARGET] == 1 or df.iloc[t][TARGET] == 2):\n",
    "      simple_labels.append(1)\n",
    "    elif(df.iloc[t][TARGET] == 4 or df.iloc[t][TARGET] == 5):\n",
    "      simple_labels.append(3)\n",
    "    elif(df.iloc[t][TARGET] == 3):\n",
    "      simple_labels.append(2)\n",
    "    else:\n",
    "      simple_labels.append(df.iloc[t][TARGET]) \n",
    "\n",
    "    full_labels.append(df.iloc[t][TARGET])\n",
    "\n",
    "\n",
    "print(pd.Series(simple_labels).value_counts()[0])\n",
    "pd.Series(simple_labels).value_counts().plot(kind='bar')\n",
    "\n",
    "print(pd.Series(full_labels).value_counts()[0])\n",
    "pd.Series(full_labels).value_counts().plot(kind='bar')\n"
   ]
  }
 ],
 "metadata": {
  "language_info": {
   "name": "python"
  },
  "orig_nbformat": 4
 },
 "nbformat": 4,
 "nbformat_minor": 2
}
