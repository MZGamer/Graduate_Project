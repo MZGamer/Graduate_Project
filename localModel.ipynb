{
 "cells": [
  {
   "cell_type": "code",
   "execution_count": 16,
   "metadata": {},
   "outputs": [
    {
     "name": "stdout",
     "output_type": "stream",
     "text": [
      "建安羊肉爐 台式\n",
      "麻老霸麻辣串燒 小吃\n",
      "上上籤吉品涮涮鍋 中式\n",
      "家禾火雞肉飯 台式\n",
      "小丸煮 (嘉義店) 飲料\n",
      "五鮮級平價鍋物 (嘉義民北店) 台式\n",
      "Mister Donut (嘉義秀泰店) 歐美\n",
      "星火咖啡輕食 歐美\n",
      "進發家-祖傳綠豆沙 (嘉義森活店) 飲料\n",
      "月女涼麵 台式\n",
      "紅茶洋行-博愛店 飲料\n",
      "盧廣烤肉 (嘉義文化總店) 小吃\n",
      "燒瓶子。大肆の鍋 (嘉義店) 台式\n",
      "鼎記上海湯包 中式\n",
      "凍一夏剉冰雪花冰 甜點\n",
      "臻有福廚房 (古早味炒米粉.炒飯) 台式\n",
      "滷匠獨創滷味 (嘉義文化店) 小吃\n",
      "果本堂 (嘉義仁愛總店) 台式\n",
      "老先覺功夫窯燒鍋 (嘉義民生MiNi店) 台式\n",
      "福星藥頭排骨快炒 台式\n",
      "韻沏好 T-Aroma 飲料\n",
      "建安羊肉爐 台式\n",
      "姐妹餐點 台式\n",
      "橘町搖搖 (嘉義保安店) 飲料\n",
      "湯城鵝行 台式\n",
      "江鳥咖啡 (嘉義民北店) 甜點\n",
      "豪味亭國際茶飲 (嘉義文化總店) 飲料\n",
      "無五十茶飲 飲料\n",
      "原南門圓環香菇肉羹臭豆腐 台式\n",
      "盧阿嬤烤肉/原盧廣烤肉文化總店 小吃\n",
      "紅茶洋行 (嘉市吳鳳北店) 飲料\n",
      "賴桑麵食館 (來來永和豆漿文化店) 台式\n",
      "古早味炸麵包 甜點\n",
      "豚將日本拉麵 (嘉義店) 日式\n",
      "小確幸炸飯糰 日式\n",
      "讓雞添牙 (嘉義北興店) 小吃\n",
      "老先覺功夫窯燒鍋 (嘉義民生MiNi店) 台式\n",
      "南海茶道 (嘉義林森店) 飲料\n"
     ]
    }
   ],
   "source": [
    "import json\n",
    "class restaurantWithReview:\n",
    "        def __init__(self, name, type, comment):\n",
    "                self.name = name\n",
    "                self.type = type\n",
    "                self.comment = comment\n",
    "\n",
    "fullData = []\n",
    "with open('fulldata.json', 'r') as f:\n",
    "    dict_array = json.load(f)\n",
    "    f.close()\n",
    "fullData = [restaurantWithReview(obj['name'], obj['type'], obj['comment']) for obj in dict_array]\n",
    "\n",
    "for d in set(fullData):\n",
    "       print(f\"{d.name} {d.type}\")"
   ]
  },
  {
   "cell_type": "code",
   "execution_count": 16,
   "metadata": {},
   "outputs": [
    {
     "name": "stdout",
     "output_type": "stream",
     "text": [
      "3677\n"
     ]
    }
   ],
   "source": [
    "import json\n",
    "class restaurantData:\n",
    "    def __init__(self, name, type):\n",
    "        self.name = name\n",
    "        self.type = type\n",
    "\n",
    "with open('data(台南).json', 'r') as f:\n",
    "    dict_array = json.load(f)\n",
    "    f.close()\n",
    "\n",
    "restaurant_list = [restaurantData(obj['name'], obj['type']) for obj in dict_array]\n",
    "print(len(restaurant_list))"
   ]
  },
  {
   "cell_type": "code",
   "execution_count": 2,
   "metadata": {},
   "outputs": [
    {
     "name": "stdout",
     "output_type": "stream",
     "text": [
      "2446\n",
      "3677\n"
     ]
    }
   ],
   "source": [
    "import os\n",
    "import json\n",
    "class restaurantData:\n",
    "    def __init__(self, name, type):\n",
    "        self.name = name\n",
    "        self.type = type\n",
    "\n",
    "if  not os.path.isfile(\"./data.csv\"):\n",
    "    with open('data.csv', 'w', newline='', encoding='utf-8') as file:\n",
    "            writer = csv.writer(file)\n",
    "            writer.writerow(['Name', 'Label', 'Comment']) # 写入标题行\n",
    "\n",
    "    file.close()\n",
    "with open('data(台南).json', 'r') as f:\n",
    "    dict_array = json.load(f)\n",
    "    f.close()\n",
    "\n",
    "restaurant_list = [restaurantData(obj['name'], obj['type']) for obj in dict_array]\n",
    "\n",
    "for i in range(len(restaurant_list)):\n",
    "  if restaurant_list[i].name == '小乖燒餅早點':\n",
    "       print(i)\n",
    "print(len(restaurant_list))"
   ]
  },
  {
   "cell_type": "code",
   "execution_count": null,
   "metadata": {},
   "outputs": [],
   "source": [
    "df = pd.read_csv('data.csv')\n",
    "df.dropna(inplace=True)\n",
    "for s in df['Comment']:\n",
    "  print(s)"
   ]
  },
  {
   "cell_type": "code",
   "execution_count": 9,
   "metadata": {},
   "outputs": [],
   "source": [
    "import pandas as pd\n",
    "import tensorflow as tf\n",
    "from sklearn.model_selection import train_test_split\n",
    "import csv\n",
    "import os\n",
    "\n",
    "if  not os.path.isfile(\"./newData.csv\"):\n",
    "    with open('newData.csv', 'w', newline='', encoding='utf-8') as file:\n",
    "            writer = csv.writer(file)\n",
    "            writer.writerow(['Name', 'Label', 'Comment']) # 写入标题行\n",
    "            file.close()   \n",
    "\n",
    "# 讀取CSV文件並轉換為DataFrame\n",
    "df = pd.read_csv('out.csv')\n",
    "df.dropna(inplace=True)\n",
    "name = df['Name'].tolist()\n",
    "label = df['Label'].tolist()\n",
    "comment = df['Comment'].tolist()\n",
    "for i in range(len(comment)):\n",
    "       commentList = x = comment[i].split(\"|\")\n",
    "       for index in range(len(commentList)):\n",
    "                with open('newData.csv', 'a', newline='', encoding='utf-8') as file:\n",
    "                        writer = csv.writer(file)\n",
    "                        writer.writerow([name[i], label[i], commentList[index]])\n",
    "                file.close()      \n"
   ]
  },
  {
   "cell_type": "code",
   "execution_count": 7,
   "metadata": {},
   "outputs": [
    {
     "name": "stdout",
     "output_type": "stream",
     "text": [
      "Collecting emojiNote: you may need to restart the kernel to use updated packages.\n"
     ]
    },
    {
     "name": "stderr",
     "output_type": "stream",
     "text": [
      "\n",
      "[notice] A new release of pip is available: 23.0.1 -> 23.1.2\n",
      "[notice] To update, run: python.exe -m pip install --upgrade pip\n"
     ]
    },
    {
     "name": "stdout",
     "output_type": "stream",
     "text": [
      "\n",
      "  Downloading emoji-2.2.0.tar.gz (240 kB)\n",
      "     ---------------------------------------- 0.0/240.9 kB ? eta -:--:--\n",
      "     ---- ---------------------------------- 30.7/240.9 kB 1.4 MB/s eta 0:00:01\n",
      "     ------------ ------------------------ 81.9/240.9 kB 919.0 kB/s eta 0:00:01\n",
      "     ---------------- ------------------- 112.6/240.9 kB 731.4 kB/s eta 0:00:01\n",
      "     ------------------------ ----------- 163.8/240.9 kB 898.2 kB/s eta 0:00:01\n",
      "     ------------------------------ ----- 204.8/240.9 kB 892.5 kB/s eta 0:00:01\n",
      "     -----------------------------------  235.5/240.9 kB 850.1 kB/s eta 0:00:01\n",
      "     ------------------------------------ 240.9/240.9 kB 821.0 kB/s eta 0:00:00\n",
      "  Preparing metadata (setup.py): started\n",
      "  Preparing metadata (setup.py): finished with status 'done'\n",
      "Building wheels for collected packages: emoji\n",
      "  Building wheel for emoji (setup.py): started\n",
      "  Building wheel for emoji (setup.py): finished with status 'done'\n",
      "  Created wheel for emoji: filename=emoji-2.2.0-py3-none-any.whl size=234936 sha256=94d9d1e44a999a0378c4120ec53df860c02afed8cb63c6013d1ee9967aab2e77\n",
      "  Stored in directory: c:\\users\\sacre\\appdata\\local\\pip\\cache\\wheels\\9a\\b8\\0f\\f580817231cbf59f6ade9fd132ff60ada1de9f7dc85521f857\n",
      "Successfully built emoji\n",
      "Installing collected packages: emoji\n",
      "Successfully installed emoji-2.2.0\n"
     ]
    }
   ],
   "source": [
    "pip install  emoji"
   ]
  },
  {
   "cell_type": "code",
   "execution_count": 2,
   "metadata": {},
   "outputs": [
    {
     "name": "stdout",
     "output_type": "stream",
     "text": [
      "2     236\n",
      "3     211\n",
      "1     207\n",
      "4     192\n",
      "5     189\n",
      "     ... \n",
      "90      1\n",
      "89      1\n",
      "84      1\n",
      "87      1\n",
      "86      1\n",
      "Name: count, Length: 94, dtype: int64\n"
     ]
    },
    {
     "data": {
      "text/plain": [
       "<Axes: xlabel='label'>"
      ]
     },
     "execution_count": 2,
     "metadata": {},
     "output_type": "execute_result"
    },
    {
     "data": {
      "image/png": "[encoded data removed]",
      "text/plain": [
       "<Figure size 640x480 with 1 Axes>"
      ]
     },
     "metadata": {},
     "output_type": "display_data"
    }
   ],
   "source": [
    "import pandas as pd\n",
    "import tensorflow as tf\n",
    "from sklearn.model_selection import train_test_split\n",
    "import csv\n",
    "import matplotlib.pyplot as plt\n",
    "import emoji\n",
    "import re\n",
    "import math\n",
    "from pylab import mpl\n",
    "\n",
    "# 讀取CSV文件並轉換為DataFrame\n",
    "df = pd.read_csv('data.csv')\n",
    "df.dropna(inplace=True)\n",
    "name = df['Name'].tolist()\n",
    "label = df['Label'].tolist()\n",
    "comment = df['Comment'].tolist()\n",
    "fullcommentList = []\n",
    "\n",
    "for i in range(len(comment)):\n",
    "       commentList = comment[i].split(\"|\")\n",
    "       fullcommentList = fullcommentList + commentList\n",
    "#查看x的长度的分布\n",
    "length=[]\n",
    "count = 0\n",
    "for i in comment:\n",
    "    i = emoji.demojize(i)\n",
    "    i = re.sub(':\\S+?:', ' ', i)\n",
    "    length.append(math.floor(len(i) / 100)+1)\n",
    "    if(len(i) == 11):\n",
    "          #if(count % 100 == 0):\n",
    "            #print(i)\n",
    "          count+= 1\n",
    "v_c=pd.Series(length).value_counts()\n",
    "print(v_c)\n",
    "#v_c[v_c>5].plot(kind='bar',figsize=(12,5))\n",
    "mpl.rcParams[\"font.sans-serif\"] = [\"SimHei\"]\n",
    "data=pd.DataFrame()\n",
    "data['label']=df['Label']\n",
    "data['label'].value_counts().plot(kind='bar')"
   ]
  },
  {
   "cell_type": "code",
   "execution_count": null,
   "metadata": {},
   "outputs": [],
   "source": [
    "pip install matplotlib"
   ]
  },
  {
   "cell_type": "code",
   "execution_count": 5,
   "metadata": {},
   "outputs": [
    {
     "name": "stdout",
     "output_type": "stream",
     "text": [
      "5666\n"
     ]
    }
   ],
   "source": [
    "import pandas as pd\n",
    "import tensorflow as tf\n",
    "from sklearn.model_selection import train_test_split\n",
    "import csv\n",
    "import matplotlib.pyplot as plt\n",
    "import emoji\n",
    "import re\n",
    "import math\n",
    "from pylab import mpl\n",
    "\n",
    "# 讀取CSV文件並轉換為DataFrame\n",
    "df1 = pd.read_csv('data.csv')\n",
    "df1.dropna(inplace=True)\n",
    "df2 = pd.read_csv('data (Tainan).csv')\n",
    "df2.dropna(inplace=True)\n",
    "df = pd.concat([df1, df2])\n",
    "df.reset_index()\n",
    "print(len(df[\"Name\"]))\n",
    "df.to_csv('out.csv')"
   ]
  },
  {
   "cell_type": "code",
   "execution_count": 2,
   "metadata": {},
   "outputs": [],
   "source": [
    "import pandas as pd\n",
    "\n",
    "file_path = 'reviewType.csv'\n",
    "\n",
    "def read_csv_file(file_path):\n",
    "    data = pd.read_csv(file_path)\n",
    "    return data\n",
    "\n",
    "def write_to_csv(df, file_path):\n",
    "    df.to_csv(file_path, index=False)\n",
    "\n",
    "# 假設你有一個名為df的DataFrame物件\n",
    "# 假設你想將它寫入名為output.csv的檔案中\n",
    "output_file_path = 'reviewType.csv'\n",
    "csv_data = read_csv_file(file_path)\n",
    "csv_data['NonImportant'] = '0'\n",
    "# 呼叫函式將DataFrame寫入CSV檔案\n",
    "write_to_csv(csv_data, output_file_path)"
   ]
  },
  {
   "cell_type": "code",
   "execution_count": 3,
   "metadata": {},
   "outputs": [
    {
     "name": "stdout",
     "output_type": "stream",
     "text": [
      "Requirement already satisfied: transformers in d:\\work\\project\\school_homework\\graduate_project\\.venv\\lib\\site-packages (4.28.1)\n",
      "Requirement already satisfied: huggingface-hub<1.0,>=0.11.0 in d:\\work\\project\\school_homework\\graduate_project\\.venv\\lib\\site-packages (from transformers) (0.14.1)\n",
      "Requirement already satisfied: tokenizers!=0.11.3,<0.14,>=0.11.1 in d:\\work\\project\\school_homework\\graduate_project\\.venv\\lib\\site-packages (from transformers) (0.13.3)\n",
      "Requirement already satisfied: packaging>=20.0 in d:\\work\\project\\school_homework\\graduate_project\\.venv\\lib\\site-packages (from transformers) (23.1)\n",
      "Requirement already satisfied: regex!=2019.12.17 in d:\\work\\project\\school_homework\\graduate_project\\.venv\\lib\\site-packages (from transformers) (2023.3.23)\n",
      "Requirement already satisfied: requests in d:\\work\\project\\school_homework\\graduate_project\\.venv\\lib\\site-packages (from transformers) (2.28.2)\n",
      "Requirement already satisfied: numpy>=1.17 in d:\\work\\project\\school_homework\\graduate_project\\.venv\\lib\\site-packages (from transformers) (1.23.5)\n",
      "Requirement already satisfied: tqdm>=4.27 in d:\\work\\project\\school_homework\\graduate_project\\.venv\\lib\\site-packages (from transformers) (4.65.0)\n",
      "Requirement already satisfied: filelock in d:\\work\\project\\school_homework\\graduate_project\\.venv\\lib\\site-packages (from transformers) (3.11.0)\n",
      "Requirement already satisfied: pyyaml>=5.1 in d:\\work\\project\\school_homework\\graduate_project\\.venv\\lib\\site-packages (from transformers) (6.0)\n",
      "Requirement already satisfied: fsspec in d:\\work\\project\\school_homework\\graduate_project\\.venv\\lib\\site-packages (from huggingface-hub<1.0,>=0.11.0->transformers) (2023.5.0)\n",
      "Requirement already satisfied: typing-extensions>=3.7.4.3 in d:\\work\\project\\school_homework\\graduate_project\\.venv\\lib\\site-packages (from huggingface-hub<1.0,>=0.11.0->transformers) (4.5.0)\n",
      "Requirement already satisfied: colorama in d:\\work\\project\\school_homework\\graduate_project\\.venv\\lib\\site-packages (from tqdm>=4.27->transformers) (0.4.6)\n",
      "Requirement already satisfied: charset-normalizer<4,>=2 in d:\\work\\project\\school_homework\\graduate_project\\.venv\\lib\\site-packages (from requests->transformers) (3.1.0)\n",
      "Requirement already satisfied: certifi>=2017.4.17 in d:\\work\\project\\school_homework\\graduate_project\\.venv\\lib\\site-packages (from requests->transformers) (2022.12.7)\n",
      "Requirement already satisfied: urllib3<1.27,>=1.21.1 in d:\\work\\project\\school_homework\\graduate_project\\.venv\\lib\\site-packages (from requests->transformers) (1.26.15)\n",
      "Requirement already satisfied: idna<4,>=2.5 in d:\\work\\project\\school_homework\\graduate_project\\.venv\\lib\\site-packages (from requests->transformers) (3.4)\n",
      "Note: you may need to restart the kernel to use updated packages.\n"
     ]
    },
    {
     "name": "stderr",
     "output_type": "stream",
     "text": [
      "\n",
      "[notice] A new release of pip is available: 23.0.1 -> 23.2.1\n",
      "[notice] To update, run: python.exe -m pip install --upgrade pip\n"
     ]
    }
   ],
   "source": [
    "pip install transformers\n"
   ]
  },
  {
   "cell_type": "code",
   "execution_count": 4,
   "metadata": {},
   "outputs": [
    {
     "name": "stdout",
     "output_type": "stream",
     "text": [
      "Requirement already satisfied: emoji in d:\\work\\project\\school_homework\\graduate_project\\.venv\\lib\\site-packages (2.2.0)\n",
      "Note: you may need to restart the kernel to use updated packages.\n"
     ]
    },
    {
     "name": "stderr",
     "output_type": "stream",
     "text": [
      "\n",
      "[notice] A new release of pip is available: 23.0.1 -> 23.2.1\n",
      "[notice] To update, run: python.exe -m pip install --upgrade pip\n"
     ]
    }
   ],
   "source": [
    "pip install  emoji"
   ]
  },
  {
   "cell_type": "code",
   "execution_count": 2,
   "metadata": {},
   "outputs": [
    {
     "ename": "ValueError",
     "evalue": "Exception encountered when calling layer \"transformer_encoder_2\" (type TransformerEncoder).\n\nCould not find matching concrete function to call loaded from the SavedModel. Got:\n  Positional arguments (2 total):\n    * <tf.Tensor 'inputs:0' shape=(None, 1000, 32) dtype=float32>\n    * None\n  Keyword arguments: {'training': False}\n\n Expected these arguments to match one of the following 2 option(s):\n\nOption 1:\n  Positional arguments (2 total):\n    * TensorSpec(shape=(None, 1000, 32), dtype=tf.float32, name='inputs')\n    * TensorSpec(shape=(None, 1000), dtype=tf.bool, name='mask')\n  Keyword arguments: {'training': True}\n\nOption 2:\n  Positional arguments (2 total):\n    * TensorSpec(shape=(None, 1000, 32), dtype=tf.float32, name='inputs')\n    * TensorSpec(shape=(None, 1000), dtype=tf.bool, name='mask')\n  Keyword arguments: {'training': False}\n\nCall arguments received by layer \"transformer_encoder_2\" (type TransformerEncoder):\n  • mask=tf.Tensor(shape=(None, 1000, 32), dtype=float32)\n  • training=False",
     "output_type": "error",
     "traceback": [
      "\u001b[1;31m---------------------------------------------------------------------------\u001b[0m",
      "\u001b[1;31mValueError\u001b[0m                                Traceback (most recent call last)",
      "\u001b[1;32md:\\Work\\Project\\School_Homework\\Graduate_Project\\transformer.ipynb Cell 13\u001b[0m line \u001b[0;36m5\n\u001b[0;32m      <a href='vscode-notebook-cell:/d%3A/Work/Project/School_Homework/Graduate_Project/transformer.ipynb#X13sZmlsZQ%3D%3D?line=1'>2</a>\u001b[0m \u001b[39mimport\u001b[39;00m \u001b[39mtensorflow\u001b[39;00m \u001b[39mas\u001b[39;00m \u001b[39mtf\u001b[39;00m\n\u001b[0;32m      <a href='vscode-notebook-cell:/d%3A/Work/Project/School_Homework/Graduate_Project/transformer.ipynb#X13sZmlsZQ%3D%3D?line=2'>3</a>\u001b[0m \u001b[39mfrom\u001b[39;00m \u001b[39mtensorflow\u001b[39;00m \u001b[39mimport\u001b[39;00m keras\n\u001b[1;32m----> <a href='vscode-notebook-cell:/d%3A/Work/Project/School_Homework/Graduate_Project/transformer.ipynb#X13sZmlsZQ%3D%3D?line=4'>5</a>\u001b[0m model \u001b[39m=\u001b[39m keras\u001b[39m.\u001b[39;49mmodels\u001b[39m.\u001b[39;49mload_model(\u001b[39m'\u001b[39;49m\u001b[39mD:/Work/Project/School_Homework/Graduate_Project/predict_Model/reviewLabel/foodQualityV1\u001b[39;49m\u001b[39m'\u001b[39;49m)\n\u001b[0;32m      <a href='vscode-notebook-cell:/d%3A/Work/Project/School_Homework/Graduate_Project/transformer.ipynb#X13sZmlsZQ%3D%3D?line=6'>7</a>\u001b[0m \u001b[39mwith\u001b[39;00m \u001b[39mopen\u001b[39m(\u001b[39m'\u001b[39m\u001b[39mD:/Work/Project/School_Homework/Graduate_Project/predict_Model/reviewLabel/dict.json\u001b[39m\u001b[39m'\u001b[39m) \u001b[39mas\u001b[39;00m json_file:\n\u001b[0;32m      <a href='vscode-notebook-cell:/d%3A/Work/Project/School_Homework/Graduate_Project/transformer.ipynb#X13sZmlsZQ%3D%3D?line=7'>8</a>\u001b[0m     dic \u001b[39m=\u001b[39m json\u001b[39m.\u001b[39mload(json_file)\n",
      "File \u001b[1;32md:\\Work\\Project\\School_Homework\\Graduate_Project\\.venv\\lib\\site-packages\\keras\\src\\saving\\saving_api.py:238\u001b[0m, in \u001b[0;36mload_model\u001b[1;34m(filepath, custom_objects, compile, safe_mode, **kwargs)\u001b[0m\n\u001b[0;32m    230\u001b[0m     \u001b[39mreturn\u001b[39;00m saving_lib\u001b[39m.\u001b[39mload_model(\n\u001b[0;32m    231\u001b[0m         filepath,\n\u001b[0;32m    232\u001b[0m         custom_objects\u001b[39m=\u001b[39mcustom_objects,\n\u001b[0;32m    233\u001b[0m         \u001b[39mcompile\u001b[39m\u001b[39m=\u001b[39m\u001b[39mcompile\u001b[39m,\n\u001b[0;32m    234\u001b[0m         safe_mode\u001b[39m=\u001b[39msafe_mode,\n\u001b[0;32m    235\u001b[0m     )\n\u001b[0;32m    237\u001b[0m \u001b[39m# Legacy case.\u001b[39;00m\n\u001b[1;32m--> 238\u001b[0m \u001b[39mreturn\u001b[39;00m legacy_sm_saving_lib\u001b[39m.\u001b[39mload_model(\n\u001b[0;32m    239\u001b[0m     filepath, custom_objects\u001b[39m=\u001b[39mcustom_objects, \u001b[39mcompile\u001b[39m\u001b[39m=\u001b[39m\u001b[39mcompile\u001b[39m, \u001b[39m*\u001b[39m\u001b[39m*\u001b[39mkwargs\n\u001b[0;32m    240\u001b[0m )\n",
      "File \u001b[1;32md:\\Work\\Project\\School_Homework\\Graduate_Project\\.venv\\lib\\site-packages\\keras\\src\\utils\\traceback_utils.py:70\u001b[0m, in \u001b[0;36mfilter_traceback.<locals>.error_handler\u001b[1;34m(*args, **kwargs)\u001b[0m\n\u001b[0;32m     67\u001b[0m     filtered_tb \u001b[39m=\u001b[39m _process_traceback_frames(e\u001b[39m.\u001b[39m__traceback__)\n\u001b[0;32m     68\u001b[0m     \u001b[39m# To get the full stack trace, call:\u001b[39;00m\n\u001b[0;32m     69\u001b[0m     \u001b[39m# `tf.debugging.disable_traceback_filtering()`\u001b[39;00m\n\u001b[1;32m---> 70\u001b[0m     \u001b[39mraise\u001b[39;00m e\u001b[39m.\u001b[39mwith_traceback(filtered_tb) \u001b[39mfrom\u001b[39;00m \u001b[39mNone\u001b[39;00m\n\u001b[0;32m     71\u001b[0m \u001b[39mfinally\u001b[39;00m:\n\u001b[0;32m     72\u001b[0m     \u001b[39mdel\u001b[39;00m filtered_tb\n",
      "File \u001b[1;32md:\\Work\\Project\\School_Homework\\Graduate_Project\\.venv\\lib\\site-packages\\tensorflow\\python\\saved_model\\function_deserialization.py:301\u001b[0m, in \u001b[0;36mrecreate_function.<locals>.restored_function_body\u001b[1;34m(*args, **kwargs)\u001b[0m\n\u001b[0;32m    297\u001b[0m   positional, keyword \u001b[39m=\u001b[39m concrete_function\u001b[39m.\u001b[39mstructured_input_signature\n\u001b[0;32m    298\u001b[0m   signature_descriptions\u001b[39m.\u001b[39mappend(\n\u001b[0;32m    299\u001b[0m       \u001b[39m\"\u001b[39m\u001b[39mOption \u001b[39m\u001b[39m{}\u001b[39;00m\u001b[39m:\u001b[39m\u001b[39m\\n\u001b[39;00m\u001b[39m  \u001b[39m\u001b[39m{}\u001b[39;00m\u001b[39m\\n\u001b[39;00m\u001b[39m  Keyword arguments: \u001b[39m\u001b[39m{}\u001b[39;00m\u001b[39m\"\u001b[39m\u001b[39m.\u001b[39mformat(\n\u001b[0;32m    300\u001b[0m           index \u001b[39m+\u001b[39m \u001b[39m1\u001b[39m, _pretty_format_positional(positional), keyword))\n\u001b[1;32m--> 301\u001b[0m \u001b[39mraise\u001b[39;00m \u001b[39mValueError\u001b[39;00m(\n\u001b[0;32m    302\u001b[0m     \u001b[39m\"\u001b[39m\u001b[39mCould not find matching concrete function to call loaded from the \u001b[39m\u001b[39m\"\u001b[39m\n\u001b[0;32m    303\u001b[0m     \u001b[39mf\u001b[39m\u001b[39m\"\u001b[39m\u001b[39mSavedModel. Got:\u001b[39m\u001b[39m\\n\u001b[39;00m\u001b[39m  \u001b[39m\u001b[39m{\u001b[39;00m_pretty_format_positional(args)\u001b[39m}\u001b[39;00m\u001b[39m\\n\u001b[39;00m\u001b[39m  Keyword \u001b[39m\u001b[39m\"\u001b[39m\n\u001b[0;32m    304\u001b[0m     \u001b[39mf\u001b[39m\u001b[39m\"\u001b[39m\u001b[39marguments: \u001b[39m\u001b[39m{\u001b[39;00mkwargs\u001b[39m}\u001b[39;00m\u001b[39m\\n\u001b[39;00m\u001b[39m\\n\u001b[39;00m\u001b[39m Expected these arguments to match one of the \u001b[39m\u001b[39m\"\u001b[39m\n\u001b[0;32m    305\u001b[0m     \u001b[39mf\u001b[39m\u001b[39m\"\u001b[39m\u001b[39mfollowing \u001b[39m\u001b[39m{\u001b[39;00m\u001b[39mlen\u001b[39m(saved_function\u001b[39m.\u001b[39mconcrete_functions)\u001b[39m}\u001b[39;00m\u001b[39m option(s):\u001b[39m\u001b[39m\\n\u001b[39;00m\u001b[39m\\n\u001b[39;00m\u001b[39m\"\u001b[39m\n\u001b[0;32m    306\u001b[0m     \u001b[39mf\u001b[39m\u001b[39m\"\u001b[39m\u001b[39m{\u001b[39;00m(\u001b[39mchr\u001b[39m(\u001b[39m10\u001b[39m)\u001b[39m+\u001b[39m\u001b[39mchr\u001b[39m(\u001b[39m10\u001b[39m))\u001b[39m.\u001b[39mjoin(signature_descriptions)\u001b[39m}\u001b[39;00m\u001b[39m\"\u001b[39m)\n",
      "\u001b[1;31mValueError\u001b[0m: Exception encountered when calling layer \"transformer_encoder_2\" (type TransformerEncoder).\n\nCould not find matching concrete function to call loaded from the SavedModel. Got:\n  Positional arguments (2 total):\n    * <tf.Tensor 'inputs:0' shape=(None, 1000, 32) dtype=float32>\n    * None\n  Keyword arguments: {'training': False}\n\n Expected these arguments to match one of the following 2 option(s):\n\nOption 1:\n  Positional arguments (2 total):\n    * TensorSpec(shape=(None, 1000, 32), dtype=tf.float32, name='inputs')\n    * TensorSpec(shape=(None, 1000), dtype=tf.bool, name='mask')\n  Keyword arguments: {'training': True}\n\nOption 2:\n  Positional arguments (2 total):\n    * TensorSpec(shape=(None, 1000, 32), dtype=tf.float32, name='inputs')\n    * TensorSpec(shape=(None, 1000), dtype=tf.bool, name='mask')\n  Keyword arguments: {'training': False}\n\nCall arguments received by layer \"transformer_encoder_2\" (type TransformerEncoder):\n  • mask=tf.Tensor(shape=(None, 1000, 32), dtype=float32)\n  • training=False"
     ]
    }
   ],
   "source": [
    "from tensorflow.keras import layers\n",
    "import tensorflow as tf\n",
    "from tensorflow import keras\n",
    "\n",
    "model = keras.models.load_model('D:/Work/Project/School_Homework/Graduate_Project/predict_Model/reviewLabel/foodQualityV1')\n",
    "\n",
    "with open('D:/Work/Project/School_Homework/Graduate_Project/predict_Model/reviewLabel/dict.json') as json_file:\n",
    "    dic = json.load(json_file)"
   ]
  },
  {
   "cell_type": "code",
   "execution_count": 3,
   "metadata": {},
   "outputs": [
    {
     "name": "stdout",
     "output_type": "stream",
     "text": [
      "2.13.0\n"
     ]
    }
   ],
   "source": [
    "print(tf.__version__)"
   ]
  },
  {
   "cell_type": "code",
   "execution_count": 19,
   "metadata": {},
   "outputs": [
    {
     "name": "stdout",
     "output_type": "stream",
     "text": [
      "Note: you may need to restart the kernel to use updated packages.\n"
     ]
    },
    {
     "name": "stderr",
     "output_type": "stream",
     "text": [
      "ERROR: Can not perform a '--user' install. User site-packages are not visible in this virtualenv.\n",
      "WARNING: Ignoring invalid distribution -ensorflow-intel (d:\\work\\project\\school_homework\\graduate_project\\.venv\\lib\\site-packages)\n",
      "WARNING: Ignoring invalid distribution -ensorflow-intel (d:\\work\\project\\school_homework\\graduate_project\\.venv\\lib\\site-packages)\n",
      "WARNING: Ignoring invalid distribution -ensorflow-intel (d:\\work\\project\\school_homework\\graduate_project\\.venv\\lib\\site-packages)\n",
      "\n",
      "[notice] A new release of pip is available: 23.0.1 -> 23.2.1\n",
      "[notice] To update, run: python.exe -m pip install --upgrade pip\n"
     ]
    }
   ],
   "source": [
    "pip install --upgrade tensorflow --user\n"
   ]
  },
  {
   "cell_type": "code",
   "execution_count": 4,
   "metadata": {},
   "outputs": [],
   "source": [
    "import csv\n",
    "import pandas as pd\n",
    "import os\n",
    "import numpy as np\n",
    "\n",
    "def write_to_csv(df, file_path, errCount = 0):\n",
    "    try:\n",
    "        df.to_csv(file_path, index=False)\n",
    "    except:\n",
    "        if errCount > 3:\n",
    "            print(\"write to csv failed\")\n",
    "            raise Exception(\"write to csv failed\")\n",
    "        else:\n",
    "            errCount += 1\n",
    "            write_to_csv(df, file_path, errCount)\n",
    "\n",
    "def read_csv_file(file_path):\n",
    "    data = pd.read_csv(file_path)\n",
    "    return data\n",
    "\n",
    "\n",
    "file_path= './reviewTypeMerge.csv'\n",
    "output_file_path = './reviewType_Empty.csv'\n",
    "# 呼叫函式來讀取CSV檔案\n",
    "csv_data = read_csv_file(file_path)\n",
    "\n",
    "CLEANSIZE = 20000\n",
    "\n",
    "columns = csv_data.columns\n",
    "csv_data.drop(csv_data.index[:CLEANSIZE+1], inplace=True)\n",
    "\n",
    "csv_data.drop(csv_data.index[20000:], inplace=True)\n",
    "write_to_csv(csv_data, output_file_path)"
   ]
  }
 ],
 "metadata": {
  "kernelspec": {
   "display_name": ".venv",
   "language": "python",
   "name": "python3"
  },
  "language_info": {
   "codemirror_mode": {
    "name": "ipython",
    "version": 3
   },
   "file_extension": ".py",
   "mimetype": "text/x-python",
   "name": "python",
   "nbconvert_exporter": "python",
   "pygments_lexer": "ipython3",
   "version": "3.9.0"
  },
  "orig_nbformat": 4
 },
 "nbformat": 4,
 "nbformat_minor": 2
}
